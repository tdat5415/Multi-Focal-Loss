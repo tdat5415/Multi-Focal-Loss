{
 "cells": [
  {
   "cell_type": "markdown",
   "id": "ee235edf-0f99-4bca-95c9-d072b501e94e",
   "metadata": {},
   "source": [
    "### Select GPU"
   ]
  },
  {
   "cell_type": "code",
   "execution_count": 1,
   "id": "a2ac20a5-28bb-43e6-af12-47340859c926",
   "metadata": {},
   "outputs": [],
   "source": [
    "import os\n",
    "\n",
    "os.environ['TF_CPP_MIN_LOG_LEVEL'] = '3'\n",
    "os.environ[\"CUDA_VISIBLE_DEVICES\"] = '0'"
   ]
  },
  {
   "cell_type": "markdown",
   "id": "6e8c3bb2-e5e1-4f32-8568-6747738a2efe",
   "metadata": {},
   "source": [
    "### Load mnist dataset"
   ]
  },
  {
   "cell_type": "code",
   "execution_count": 2,
   "id": "9bb6e784-4980-4235-b28e-409be65cfdb3",
   "metadata": {},
   "outputs": [
    {
     "name": "stdout",
     "output_type": "stream",
     "text": [
      "(60000, 28, 28) (60000,)\n",
      "uint8 uint8\n",
      "(60000, 10) float32\n",
      "(10000, 10) float32\n"
     ]
    }
   ],
   "source": [
    "import tensorflow as tf\n",
    "import numpy as np\n",
    "\n",
    "(train_x, train_y), (test_x, test_y) = tf.keras.datasets.mnist.load_data()\n",
    "print(train_x.shape, train_y.shape)\n",
    "print(train_x.dtype, train_y.dtype)\n",
    "\n",
    "train_x = train_x.astype(np.float32) / 255.0\n",
    "test_x = test_x.astype(np.float32) / 255.0\n",
    "\n",
    "train_y = tf.keras.utils.to_categorical(train_y, num_classes=10)\n",
    "test_y = tf.keras.utils.to_categorical(test_y, num_classes=10)\n",
    "print(train_y.shape, train_y.dtype)\n",
    "print(test_y.shape, test_y.dtype)"
   ]
  },
  {
   "cell_type": "markdown",
   "id": "b6286f96-d981-4095-9d76-f6531c0d815a",
   "metadata": {},
   "source": [
    "### Define Loss"
   ]
  },
  {
   "cell_type": "code",
   "execution_count": 4,
   "id": "f1729875-40d8-4c43-8f1d-65a377356909",
   "metadata": {},
   "outputs": [],
   "source": [
    "class MultiFocalLoss(tf.keras.losses.Loss):\n",
    "    def __init__(self, class_weights=None, gamma=2, eps=1e-7, name=\"MultiFocalLoss\", **kwargs):\n",
    "        super().__init__(name=name, **kwargs)\n",
    "        self.class_weights = class_weights\n",
    "        self.gamma = gamma\n",
    "        self.eps = eps\n",
    "        \n",
    "    def call(self, y_true, y_pred):\n",
    "        pos_loss = y_true * tf.pow(1-y_pred, self.gamma) * tf.math.log(y_pred+self.eps)\n",
    "        neg_loss = (1-y_true) * tf.pow(y_pred, self.gamma) * tf.math.log(1-y_pred+self.eps)\n",
    "        loss = -(pos_loss + neg_loss) # (B, n_classes)\n",
    "        if self.class_weights is None: loss = tf.reduce_sum(loss, axis=1)\n",
    "        else: loss = tf.reduce_sum(loss*self.class_weights, axis=1)\n",
    "        loss = tf.reduce_mean(loss, axis=0)\n",
    "        return loss"
   ]
  },
  {
   "cell_type": "markdown",
   "id": "e5bbafb3-83ae-43af-8236-8c8818c89666",
   "metadata": {},
   "source": [
    "### Build Model"
   ]
  },
  {
   "cell_type": "code",
   "execution_count": 16,
   "id": "fd8fb5b3-08bf-40d8-9b7e-e044cfb0624f",
   "metadata": {},
   "outputs": [],
   "source": [
    "from tensorflow.keras import layers \n",
    "from tensorflow.keras.regularizers import l2\n",
    "\n",
    "param = {\"padding\":\"same\", \"activation\":\"relu\", \n",
    "         \"kernel_initializer\":\"he_normal\", \"kernel_regularizer\":l2(1e-5)}\n",
    "\n",
    "img_input = layers.Input(shape=(28,28), dtype=tf.float32)\n",
    "x = layers.Reshape((28,28,1))(img_input)\n",
    "x = layers.ZeroPadding2D(padding=2)(x)\n",
    "x = layers.Conv2D(32, (3,3), **param)(x)\n",
    "x = layers.MaxPool2D()(x)\n",
    "x = layers.Conv2D(64, (3,3), **param)(x)\n",
    "x = layers.MaxPool2D()(x)\n",
    "x = layers.Conv2D(128, (3,3), **param)(x)\n",
    "x = layers.MaxPool2D()(x)\n",
    "x = layers.Flatten()(x)\n",
    "x = layers.Dropout(0.5)(x)\n",
    "x = layers.Dense(128, activation='relu', kernel_initializer=\"he_normal\")(x)\n",
    "x = layers.Dense(10, activation='softmax')(x)\n",
    "\n",
    "model = tf.keras.models.Model(img_input, x)\n",
    "\n",
    "model.compile(loss=MultiFocalLoss(), optimizer='adam', metrics=['acc'])"
   ]
  },
  {
   "cell_type": "code",
   "execution_count": 17,
   "id": "1b583581-7260-416d-aa35-7485f961e8d8",
   "metadata": {},
   "outputs": [
    {
     "name": "stdout",
     "output_type": "stream",
     "text": [
      "Epoch 1/50\n",
      "59/59 - 2s - loss: 0.6931 - acc: 0.7301 - val_loss: 0.0782 - val_acc: 0.9632 - 2s/epoch - 27ms/step\n",
      "Epoch 2/50\n",
      "59/59 - 1s - loss: 0.0916 - acc: 0.9569 - val_loss: 0.0424 - val_acc: 0.9795 - 677ms/epoch - 11ms/step\n",
      "Epoch 3/50\n",
      "59/59 - 1s - loss: 0.0605 - acc: 0.9708 - val_loss: 0.0310 - val_acc: 0.9843 - 678ms/epoch - 11ms/step\n",
      "Epoch 4/50\n",
      "59/59 - 1s - loss: 0.0469 - acc: 0.9775 - val_loss: 0.0266 - val_acc: 0.9879 - 681ms/epoch - 12ms/step\n",
      "Epoch 5/50\n",
      "59/59 - 1s - loss: 0.0410 - acc: 0.9809 - val_loss: 0.0241 - val_acc: 0.9881 - 677ms/epoch - 11ms/step\n",
      "Epoch 6/50\n",
      "59/59 - 1s - loss: 0.0345 - acc: 0.9844 - val_loss: 0.0207 - val_acc: 0.9902 - 676ms/epoch - 11ms/step\n",
      "Epoch 7/50\n",
      "59/59 - 1s - loss: 0.0300 - acc: 0.9865 - val_loss: 0.0210 - val_acc: 0.9907 - 676ms/epoch - 11ms/step\n",
      "Epoch 8/50\n",
      "59/59 - 1s - loss: 0.0271 - acc: 0.9875 - val_loss: 0.0197 - val_acc: 0.9908 - 677ms/epoch - 11ms/step\n",
      "Epoch 9/50\n",
      "59/59 - 1s - loss: 0.0259 - acc: 0.9881 - val_loss: 0.0181 - val_acc: 0.9909 - 680ms/epoch - 12ms/step\n",
      "Epoch 10/50\n",
      "59/59 - 1s - loss: 0.0234 - acc: 0.9898 - val_loss: 0.0180 - val_acc: 0.9912 - 681ms/epoch - 12ms/step\n",
      "Epoch 11/50\n",
      "59/59 - 1s - loss: 0.0211 - acc: 0.9908 - val_loss: 0.0177 - val_acc: 0.9917 - 677ms/epoch - 11ms/step\n",
      "Epoch 12/50\n",
      "59/59 - 1s - loss: 0.0203 - acc: 0.9912 - val_loss: 0.0168 - val_acc: 0.9926 - 674ms/epoch - 11ms/step\n",
      "Epoch 13/50\n",
      "59/59 - 1s - loss: 0.0192 - acc: 0.9923 - val_loss: 0.0178 - val_acc: 0.9919 - 673ms/epoch - 11ms/step\n",
      "Epoch 14/50\n",
      "59/59 - 1s - loss: 0.0176 - acc: 0.9927 - val_loss: 0.0174 - val_acc: 0.9918 - 675ms/epoch - 11ms/step\n",
      "Epoch 15/50\n",
      "59/59 - 1s - loss: 0.0179 - acc: 0.9925 - val_loss: 0.0193 - val_acc: 0.9911 - 679ms/epoch - 12ms/step\n",
      "Epoch 16/50\n",
      "59/59 - 1s - loss: 0.0168 - acc: 0.9930 - val_loss: 0.0181 - val_acc: 0.9924 - 675ms/epoch - 11ms/step\n",
      "Epoch 17/50\n",
      "59/59 - 1s - loss: 0.0163 - acc: 0.9931 - val_loss: 0.0167 - val_acc: 0.9922 - 682ms/epoch - 12ms/step\n",
      "Epoch 18/50\n",
      "59/59 - 1s - loss: 0.0154 - acc: 0.9940 - val_loss: 0.0162 - val_acc: 0.9932 - 676ms/epoch - 11ms/step\n",
      "Epoch 19/50\n",
      "59/59 - 1s - loss: 0.0146 - acc: 0.9944 - val_loss: 0.0174 - val_acc: 0.9922 - 675ms/epoch - 11ms/step\n",
      "Epoch 20/50\n",
      "59/59 - 1s - loss: 0.0143 - acc: 0.9942 - val_loss: 0.0165 - val_acc: 0.9922 - 678ms/epoch - 11ms/step\n",
      "Epoch 21/50\n",
      "59/59 - 1s - loss: 0.0137 - acc: 0.9948 - val_loss: 0.0174 - val_acc: 0.9921 - 679ms/epoch - 12ms/step\n",
      "Epoch 22/50\n",
      "59/59 - 1s - loss: 0.0123 - acc: 0.9956 - val_loss: 0.0169 - val_acc: 0.9931 - 679ms/epoch - 12ms/step\n",
      "Epoch 23/50\n",
      "59/59 - 1s - loss: 0.0128 - acc: 0.9953 - val_loss: 0.0163 - val_acc: 0.9933 - 681ms/epoch - 12ms/step\n",
      "Epoch 24/50\n",
      "59/59 - 1s - loss: 0.0129 - acc: 0.9950 - val_loss: 0.0172 - val_acc: 0.9924 - 671ms/epoch - 11ms/step\n",
      "Epoch 25/50\n",
      "59/59 - 1s - loss: 0.0120 - acc: 0.9956 - val_loss: 0.0174 - val_acc: 0.9921 - 674ms/epoch - 11ms/step\n",
      "Epoch 26/50\n",
      "59/59 - 1s - loss: 0.0128 - acc: 0.9950 - val_loss: 0.0164 - val_acc: 0.9931 - 678ms/epoch - 11ms/step\n",
      "Epoch 27/50\n",
      "59/59 - 1s - loss: 0.0114 - acc: 0.9959 - val_loss: 0.0164 - val_acc: 0.9936 - 672ms/epoch - 11ms/step\n",
      "Epoch 28/50\n",
      "59/59 - 1s - loss: 0.0113 - acc: 0.9964 - val_loss: 0.0166 - val_acc: 0.9937 - 677ms/epoch - 11ms/step\n",
      "Epoch 29/50\n",
      "59/59 - 1s - loss: 0.0106 - acc: 0.9965 - val_loss: 0.0186 - val_acc: 0.9924 - 673ms/epoch - 11ms/step\n",
      "Epoch 30/50\n",
      "59/59 - 1s - loss: 0.0097 - acc: 0.9968 - val_loss: 0.0177 - val_acc: 0.9933 - 673ms/epoch - 11ms/step\n",
      "Epoch 31/50\n",
      "59/59 - 1s - loss: 0.0103 - acc: 0.9969 - val_loss: 0.0174 - val_acc: 0.9931 - 674ms/epoch - 11ms/step\n",
      "Epoch 32/50\n",
      "59/59 - 1s - loss: 0.0109 - acc: 0.9963 - val_loss: 0.0200 - val_acc: 0.9925 - 672ms/epoch - 11ms/step\n",
      "Epoch 33/50\n",
      "59/59 - 1s - loss: 0.0099 - acc: 0.9971 - val_loss: 0.0190 - val_acc: 0.9925 - 673ms/epoch - 11ms/step\n",
      "Epoch 34/50\n",
      "59/59 - 1s - loss: 0.0101 - acc: 0.9964 - val_loss: 0.0179 - val_acc: 0.9940 - 678ms/epoch - 11ms/step\n",
      "Epoch 35/50\n",
      "59/59 - 1s - loss: 0.0099 - acc: 0.9970 - val_loss: 0.0177 - val_acc: 0.9942 - 674ms/epoch - 11ms/step\n",
      "Epoch 36/50\n",
      "59/59 - 1s - loss: 0.0097 - acc: 0.9970 - val_loss: 0.0182 - val_acc: 0.9933 - 672ms/epoch - 11ms/step\n",
      "Epoch 37/50\n",
      "59/59 - 1s - loss: 0.0096 - acc: 0.9968 - val_loss: 0.0165 - val_acc: 0.9936 - 671ms/epoch - 11ms/step\n",
      "Epoch 38/50\n",
      "59/59 - 1s - loss: 0.0097 - acc: 0.9968 - val_loss: 0.0187 - val_acc: 0.9934 - 672ms/epoch - 11ms/step\n",
      "Epoch 39/50\n",
      "59/59 - 1s - loss: 0.0096 - acc: 0.9971 - val_loss: 0.0205 - val_acc: 0.9932 - 676ms/epoch - 11ms/step\n",
      "Epoch 40/50\n",
      "59/59 - 1s - loss: 0.0086 - acc: 0.9978 - val_loss: 0.0190 - val_acc: 0.9926 - 673ms/epoch - 11ms/step\n",
      "Epoch 41/50\n",
      "59/59 - 1s - loss: 0.0086 - acc: 0.9974 - val_loss: 0.0184 - val_acc: 0.9936 - 670ms/epoch - 11ms/step\n",
      "Epoch 42/50\n",
      "59/59 - 1s - loss: 0.0094 - acc: 0.9971 - val_loss: 0.0168 - val_acc: 0.9941 - 671ms/epoch - 11ms/step\n",
      "Epoch 43/50\n",
      "59/59 - 1s - loss: 0.0095 - acc: 0.9974 - val_loss: 0.0190 - val_acc: 0.9928 - 675ms/epoch - 11ms/step\n",
      "Epoch 44/50\n",
      "59/59 - 1s - loss: 0.0091 - acc: 0.9973 - val_loss: 0.0205 - val_acc: 0.9931 - 675ms/epoch - 11ms/step\n",
      "Epoch 45/50\n",
      "59/59 - 1s - loss: 0.0088 - acc: 0.9974 - val_loss: 0.0191 - val_acc: 0.9932 - 674ms/epoch - 11ms/step\n",
      "Epoch 46/50\n",
      "59/59 - 1s - loss: 0.0085 - acc: 0.9977 - val_loss: 0.0180 - val_acc: 0.9933 - 674ms/epoch - 11ms/step\n",
      "Epoch 47/50\n",
      "59/59 - 1s - loss: 0.0090 - acc: 0.9976 - val_loss: 0.0191 - val_acc: 0.9931 - 676ms/epoch - 11ms/step\n",
      "Epoch 48/50\n",
      "59/59 - 1s - loss: 0.0083 - acc: 0.9981 - val_loss: 0.0190 - val_acc: 0.9934 - 682ms/epoch - 12ms/step\n",
      "Epoch 49/50\n",
      "59/59 - 1s - loss: 0.0089 - acc: 0.9976 - val_loss: 0.0202 - val_acc: 0.9931 - 674ms/epoch - 11ms/step\n",
      "Epoch 50/50\n",
      "59/59 - 1s - loss: 0.0088 - acc: 0.9976 - val_loss: 0.0195 - val_acc: 0.9938 - 675ms/epoch - 11ms/step\n"
     ]
    },
    {
     "data": {
      "text/plain": [
       "<keras.callbacks.History at 0x7f4b601c0d00>"
      ]
     },
     "execution_count": 17,
     "metadata": {},
     "output_type": "execute_result"
    }
   ],
   "source": [
    "model.fit(train_x, train_y, batch_size=1024, epochs=50, validation_data=(test_x, test_y), verbose=2)"
   ]
  }
 ],
 "metadata": {
  "kernelspec": {
   "display_name": "Python 3 (ipykernel)",
   "language": "python",
   "name": "python3"
  },
  "language_info": {
   "codemirror_mode": {
    "name": "ipython",
    "version": 3
   },
   "file_extension": ".py",
   "mimetype": "text/x-python",
   "name": "python",
   "nbconvert_exporter": "python",
   "pygments_lexer": "ipython3",
   "version": "3.8.13"
  }
 },
 "nbformat": 4,
 "nbformat_minor": 5
}
